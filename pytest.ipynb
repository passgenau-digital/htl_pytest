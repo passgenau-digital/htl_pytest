{
 "cells": [
  {
   "cell_type": "markdown",
   "metadata": {
    "slideshow": {
     "slide_type": "slide"
    }
   },
   "source": [
    "# Software Testing Fundamentals & PyTest Framework"
   ]
  },
  {
   "cell_type": "markdown",
   "metadata": {
    "slideshow": {
     "slide_type": "slide"
    }
   },
   "source": [
    "## Part 1: Why Software Testing Matters"
   ]
  },
  {
   "cell_type": "markdown",
   "metadata": {
    "slideshow": {
     "slide_type": "subslide"
    }
   },
   "source": [
    "\n",
    "### Key Reasons to Write Tests:\n",
    "- 🐛 **Bug Prevention**: Catch errors early\n",
    "- 🔄 **Safer Refactoring**: Modify code with confidence\n",
    "- 📚 **Living Documentation**: Tests demonstrate system behavior\n",
    "- 🏗️ **Design Improvement**: Testable code = better architecture\n",
    "- 🤖 **CI/CD Enablement**: Essential for automation pipelines"
   ]
  },
  {
   "cell_type": "markdown",
   "metadata": {
    "slideshow": {
     "slide_type": "subslide"
    }
   },
   "source": [
    "## Types of Software Tests"
   ]
  },
  {
   "cell_type": "markdown",
   "metadata": {
    "slideshow": {
     "slide_type": "subslide"
    }
   },
   "source": [
    "### Unit Tests  \n",
    "- Tests individual components/functions  \n",
    "- Fastest & most granular  \n",
    "- Example: Testing a calculator's add function"
   ]
  },
  {
   "cell_type": "markdown",
   "metadata": {
    "slideshow": {
     "slide_type": "subslide"
    }
   },
   "source": [
    "### Integration Tests  \n",
    "- Verifies component interactions  \n",
    "- Example: Testing database + API interactions"
   ]
  },
  {
   "cell_type": "markdown",
   "metadata": {
    "slideshow": {
     "slide_type": "subslide"
    }
   },
   "source": [
    "### UI/End-to-End Tests  \n",
    "- Validates complete user flows  \n",
    "- Slowest but most comprehensive  \n",
    "- Example: Browser automation testing"
   ]
  },
  {
   "cell_type": "markdown",
   "metadata": {
    "slideshow": {
     "slide_type": "slide"
    }
   },
   "source": [
    "## Part 2: PyTest Framework Basics"
   ]
  },
  {
   "cell_type": "markdown",
   "metadata": {
    "slideshow": {
     "slide_type": "subslide"
    }
   },
   "source": [
    "### Why PyTest?  \n",
    "- Concise test syntax  \n",
    "- Detailed failure reports  \n",
    "- Rich plugin ecosystem  \n",
    "- No boilerplate code required"
   ]
  },
  {
   "cell_type": "markdown",
   "metadata": {
    "slideshow": {
     "slide_type": "subslide"
    }
   },
   "source": [
    "### Installing PyTest  \n",
    "```python\n",
    "# Installation\n",
    "!pip install pytest\n",
    "```"
   ]
  },
  {
   "cell_type": "markdown",
   "metadata": {
    "slideshow": {
     "slide_type": "subslide"
    }
   },
   "source": [
    "### Powerful Assertions\n",
    "- PyTest uses standard python assert statements\n",
    "```python\n",
    "x, y = 1\n",
    "assert x == y\n",
    "```\n",
    "- PyTest automatically explains failures"
   ]
  },
  {
   "cell_type": "code",
   "execution_count": 3,
   "metadata": {
    "slideshow": {
     "slide_type": "subslide"
    }
   },
   "outputs": [],
   "source": [
    "def test_string_ops():\n",
    "    result = \"pytest\"[:4]\n",
    "    assert result == \"python\", f\"Expected 'python' got {result}\"\n"
   ]
  },
  {
   "cell_type": "code",
   "execution_count": 4,
   "metadata": {
    "slideshow": {
     "slide_type": "subslide"
    }
   },
   "outputs": [
    {
     "ename": "AssertionError",
     "evalue": "Expected 'python' got pyte",
     "output_type": "error",
     "traceback": [
      "\u001b[31m---------------------------------------------------------------------------\u001b[39m",
      "\u001b[31mAssertionError\u001b[39m                            Traceback (most recent call last)",
      "\u001b[36mCell\u001b[39m\u001b[36m \u001b[39m\u001b[32mIn[4]\u001b[39m\u001b[32m, line 1\u001b[39m\n\u001b[32m----> \u001b[39m\u001b[32m1\u001b[39m \u001b[43mtest_string_ops\u001b[49m\u001b[43m(\u001b[49m\u001b[43m)\u001b[49m\n",
      "\u001b[36mCell\u001b[39m\u001b[36m \u001b[39m\u001b[32mIn[3]\u001b[39m\u001b[32m, line 3\u001b[39m, in \u001b[36mtest_string_ops\u001b[39m\u001b[34m()\u001b[39m\n\u001b[32m      1\u001b[39m \u001b[38;5;28;01mdef\u001b[39;00m\u001b[38;5;250m \u001b[39m\u001b[34mtest_string_ops\u001b[39m():\n\u001b[32m      2\u001b[39m     result = \u001b[33m\"\u001b[39m\u001b[33mpytest\u001b[39m\u001b[33m\"\u001b[39m[:\u001b[32m4\u001b[39m]\n\u001b[32m----> \u001b[39m\u001b[32m3\u001b[39m     \u001b[38;5;28;01massert\u001b[39;00m result == \u001b[33m\"\u001b[39m\u001b[33mpython\u001b[39m\u001b[33m\"\u001b[39m, \u001b[33mf\u001b[39m\u001b[33m\"\u001b[39m\u001b[33mExpected \u001b[39m\u001b[33m'\u001b[39m\u001b[33mpython\u001b[39m\u001b[33m'\u001b[39m\u001b[33m got \u001b[39m\u001b[38;5;132;01m{\u001b[39;00mresult\u001b[38;5;132;01m}\u001b[39;00m\u001b[33m\"\u001b[39m\n",
      "\u001b[31mAssertionError\u001b[39m: Expected 'python' got pyte"
     ]
    }
   ],
   "source": [
    "test_string_ops()"
   ]
  },
  {
   "cell_type": "markdown",
   "metadata": {
    "slideshow": {
     "slide_type": "subslide"
    }
   },
   "source": [
    "### Basic Test Example"
   ]
  },
  {
   "cell_type": "code",
   "execution_count": 1,
   "metadata": {
    "slideshow": {
     "slide_type": "subslide"
    }
   },
   "outputs": [],
   "source": [
    "# File: test_calculator.py\n",
    "def add(a, b):\n",
    "    return a + b\n",
    "\n",
    "def test_add():\n",
    "    assert add(2, 3) == 5\n",
    "    assert add(-1, 1) == 0\n",
    "    assert add(0, 0) == 0"
   ]
  },
  {
   "cell_type": "code",
   "execution_count": 2,
   "metadata": {
    "slideshow": {
     "slide_type": "subslide"
    }
   },
   "outputs": [
    {
     "name": "stdout",
     "output_type": "stream",
     "text": [
      "\u001b[1m============================= test session starts ==============================\u001b[0m\n",
      "platform darwin -- Python 3.11.11, pytest-8.3.5, pluggy-1.5.0\n",
      "rootdir: /Users/bmayr/SynologyDrive/Projekte_lokal/Unterrichtsmaterialien/Testen/PyTest\n",
      "plugins: anyio-4.8.0\n",
      "collected 1 item                                                               \u001b[0m\n",
      "\n",
      "test_calculator.py \u001b[32m.\u001b[0m\u001b[32m                                                     [100%]\u001b[0m\n",
      "\n",
      "\u001b[32m============================== \u001b[32m\u001b[1m1 passed\u001b[0m\u001b[32m in 0.01s\u001b[0m\u001b[32m ===============================\u001b[0m\n"
     ]
    }
   ],
   "source": [
    "!pytest test_calculator.py"
   ]
  },
  {
   "cell_type": "markdown",
   "metadata": {
    "slideshow": {
     "slide_type": "subslide"
    }
   },
   "source": [
    "### Powerful Assertions"
   ]
  },
  {
   "cell_type": "markdown",
   "metadata": {},
   "source": [
    "PyTest automatically explains failures:"
   ]
  },
  {
   "cell_type": "markdown",
   "metadata": {},
   "source": [
    "```python\n",
    "def test_string_ops():\n",
    "    result = \"pytest\"[:4]\n",
    "    assert result == \"python\", f\"Expected 'python' got {result}\"\n",
    "```"
   ]
  },
  {
   "cell_type": "markdown",
   "metadata": {},
   "source": [
    "```bash\n",
    ">       assert result == \"python\", f\"Expected 'python' got {result}\"\n",
    "E       AssertionError: Expected 'python' got pyth\n",
    "E       assert 'pyth' == 'python'\n",
    "```"
   ]
  },
  {
   "cell_type": "markdown",
   "metadata": {
    "slideshow": {
     "slide_type": "subslide"
    }
   },
   "source": [
    "### Fixture Systemtem\n",
    "- Fixtures are used to set up and tear down test environments\n",
    "- Fixtures can be used to share setup code across multiple tests\n",
    "- Fixtures can be used to share setup code across multiple test files\n",
    "- Fixtures can be used to share setup code across multiple test systems\n",
    "- Fixtures can be used to share setup code across multiple test projects"
   ]
  },
  {
   "cell_type": "code",
   "execution_count": 5,
   "metadata": {
    "slideshow": {
     "slide_type": "subslide"
    }
   },
   "outputs": [],
   "source": [
    "import pytest\n",
    "\n",
    "@pytest.fixture\n",
    "def sample_data():\n",
    "    return [3, 1, 4, 1, 5]\n",
    "\n",
    "def test_sum(sample_data):\n",
    "    assert sum(sample_data) == 14\n",
    "\n",
    "def test_len(sample_data):\n",
    "    assert len(sample_data) == 5"
   ]
  },
  {
   "cell_type": "markdown",
   "metadata": {
    "slideshow": {
     "slide_type": "subslide"
    }
   },
   "source": [
    "### Fixtures Benefits:\n",
    "\n",
    "- **Reusable test setup**\n",
    "- **Clean resource cleanup**\n",
    "- **Share across tests/modules**\n",
    "- **Test isolation**"
   ]
  },
  {
   "cell_type": "markdown",
   "metadata": {
    "slideshow": {
     "slide_type": "subslide"
    }
   },
   "source": [
    "### Parametrized Testing"
   ]
  },
  {
   "cell_type": "code",
   "execution_count": 6,
   "metadata": {},
   "outputs": [],
   "source": [
    "import pytest\n",
    "\n",
    "@pytest.mark.parametrize(\"a,b,expected\", [\n",
    "    (2, 3, 5),\n",
    "    (0, 0, 0),\n",
    "    (-1, -1, -2),\n",
    "    (100, 200, 300)\n",
    "])\n",
    "def test_addition(a, b, expected):\n",
    "    assert add(a, b) == expected"
   ]
  },
  {
   "cell_type": "markdown",
   "metadata": {
    "slideshow": {
     "slide_type": "subslide"
    }
   },
   "source": [
    "### Parametrized Testing Advantages:\n",
    "\n",
    "- **Single test for multiple cases**\n",
    "- **Clear failure identification**\n",
    "- **Reduced code duplication**\n",
    "- **Easier maintenance**"
   ]
  },
  {
   "cell_type": "markdown",
   "metadata": {
    "slideshow": {
     "slide_type": "subslide"
    }
   },
   "source": [
    "### Best Practices\n",
    "- **Keep tests small and focused**\n",
    "- **Use descriptive test names**\n",
    "- **Test edge cases & error conditions**\n",
    "- **Maintain test independence**\n",
    "- **Combine with coverage tools**\n",
    "- **Integrate with CI/CD pipelines**\n",
    "\n",
    "**Golden Rule for Testing:**\n",
    "> Tests should be reliable - a failing test should always indicate a real problem\""
   ]
  },
  {
   "cell_type": "markdown",
   "metadata": {
    "slideshow": {
     "slide_type": "subslide"
    }
   },
   "source": [
    "### Links:\n",
    "- [https://realpython.com/pytest-python-testing/](https://realpython.com/pytest-python-testing/)\n",
    "- [https://pytest-with-eric.com/](https://pytest-with-eric.com/)\n",
    "\n",
    "#### Streamlit UI-Tests:\n",
    "- [https://docs.streamlit.io/develop/concepts/app-testing/cheat-sheet](https://docs.streamlit.io/develop/concepts/app-testing/cheat-sheet)\n"
   ]
  }
 ],
 "metadata": {
  "kernelspec": {
   "display_name": ".venv",
   "language": "python",
   "name": "python3"
  },
  "language_info": {
   "codemirror_mode": {
    "name": "ipython",
    "version": 3
   },
   "file_extension": ".py",
   "mimetype": "text/x-python",
   "name": "python",
   "nbconvert_exporter": "python",
   "pygments_lexer": "ipython3",
   "version": "3.11.11"
  }
 },
 "nbformat": 4,
 "nbformat_minor": 2
}
